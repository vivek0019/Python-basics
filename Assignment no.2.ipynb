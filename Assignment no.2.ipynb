{
 "cells": [
  {
   "cell_type": "raw",
   "id": "6c57064c",
   "metadata": {},
   "source": []
  },
  {
   "cell_type": "code",
   "execution_count": null,
   "id": "a889056a",
   "metadata": {},
   "outputs": [],
   "source": [
    "1.What are the two values of the Boolean data type? How do you write them?\n",
    "\n",
    "Ans:- There are two types of Boolean values True and False\n",
    "       Using capital T and F, with the rest of the word in lower case."
   ]
  },
  {
   "cell_type": "code",
   "execution_count": null,
   "id": "5647e9a9",
   "metadata": {},
   "outputs": [],
   "source": []
  },
  {
   "cell_type": "code",
   "execution_count": null,
   "id": "ad213b45",
   "metadata": {},
   "outputs": [],
   "source": [
    "2. What are the three different types of Boolean operators?\n",
    "\n",
    "Ans:- The three boolean operators are and, or, not.\n",
    "       and or are binary operator and or is uniary operator.\n",
    "        \n",
    "       and :- If both the operands are true only and condition is true.\n",
    "              Truth table for and is given bellow.\n",
    "            \n",
    "              X          Y          return\n",
    "            True       True        True\n",
    "            True       False       False\n",
    "            False      True        False\n",
    "            False      False       False\n",
    "            \n",
    "       or :- If one of the operands are true the or condition is true.\n",
    "             Truth table for or is given bellow.\n",
    "            \n",
    "             X          Y          return\n",
    "            True       True        True\n",
    "            True       False       True\n",
    "            False      True        True\n",
    "            False      False       False\n",
    "            \n",
    "      not :- It make true operand as false and false as true\n",
    "             Truth table for not is given bellow.\n",
    "             X         return\n",
    "            True        False\n",
    "            False       True        "
   ]
  },
  {
   "cell_type": "code",
   "execution_count": null,
   "id": "fc1058d5",
   "metadata": {},
   "outputs": [],
   "source": []
  },
  {
   "cell_type": "code",
   "execution_count": null,
   "id": "e1ef0ef0",
   "metadata": {},
   "outputs": [],
   "source": [
    "3. Make a list of each Boolean operator's truth tables \n",
    "(i.e. every possible combination of Boolean values for the operator and what it evaluate ).\n",
    "\n",
    "Ans:-\n",
    "        True and True is True.\n",
    "\n",
    "        True and False is False.\n",
    "\n",
    "        False and True is False.\n",
    "\n",
    "        False and False is False.\n",
    "\n",
    "        True or True is True.\n",
    "\n",
    "        True or False is True.\n",
    "\n",
    "        False or True is True.\n",
    "\n",
    "        False or False is False.\n",
    "\n",
    "        not True is False.\n",
    "\n",
    "        not False is True."
   ]
  },
  {
   "cell_type": "code",
   "execution_count": null,
   "id": "5361a12b",
   "metadata": {},
   "outputs": [],
   "source": []
  },
  {
   "cell_type": "raw",
   "id": "c63c0e9b",
   "metadata": {},
   "source": [
    "4. What are the values of the following expressions?\n",
    "(5 > 4) and (3 == 5)\n",
    "not (5 > 4)\n",
    "(5 > 4) or (3 == 5)\n",
    "not ((5 > 4) or (3 == 5))\n",
    "(True and True) and (True == False)\n",
    "(not False) or (not True)\n",
    "\n",
    "Ans:-\n",
    "    (5 > 4) and (3 == 5)                = False\n",
    "    not (5 > 4)                         = False\n",
    "    (5 > 4) or (3 == 5)                 = True\n",
    "    not ((5 > 4) or (3 == 5))           = False\n",
    "    (True and True) and (True == False) = False\n",
    "    (not False) or (not True)           = True"
   ]
  },
  {
   "cell_type": "code",
   "execution_count": null,
   "id": "2673f372",
   "metadata": {},
   "outputs": [],
   "source": []
  },
  {
   "cell_type": "code",
   "execution_count": null,
   "id": "6616fd44",
   "metadata": {},
   "outputs": [],
   "source": [
    "5. What are the six comparison operators?\n",
    "\n",
    "Ans:-\n",
    "    >   Greater than\n",
    "    <   Less than\n",
    "    >=  Greater than eual to\n",
    "    <=  Less than equal to\n",
    "    ==  is equal\n",
    "    !=  not equal"
   ]
  },
  {
   "cell_type": "code",
   "execution_count": null,
   "id": "ae732e1e",
   "metadata": {},
   "outputs": [],
   "source": []
  },
  {
   "cell_type": "code",
   "execution_count": null,
   "id": "8cc46656",
   "metadata": {},
   "outputs": [],
   "source": [
    "6. How do you tell the difference between the equal to and assignment operators?\n",
    "Describe a condition and when you would use one.\n",
    "\n",
    "Ans:-\n",
    "    == is the equal to operator that compares two values and evaluates to a Boolean,\n",
    "    while = is the assignment operator that stores a value in a variable. \n",
    "    \n",
    "# Equal To Operator\n",
    "if(2==3):\n",
    "    print(\"True\")\n",
    "else:\n",
    "    print(\"False\")\n",
    "#Assignment operator\n",
    "c=1 #here we have used assignment operator(=) to assign value of c which is 1\n",
    "print(\"c =\",c)"
   ]
  },
  {
   "cell_type": "code",
   "execution_count": null,
   "id": "8c781b44",
   "metadata": {},
   "outputs": [],
   "source": []
  },
  {
   "cell_type": "code",
   "execution_count": null,
   "id": "4091aa38",
   "metadata": {},
   "outputs": [],
   "source": [
    "7. Identify the three blocks in this code:\n",
    "spam = 0\n",
    "if spam == 10:\n",
    "print('eggs')\n",
    "if spam > 5:\n",
    "print('bacon')\n",
    "else:\n",
    "print('ham')\n",
    "print('spam')\n",
    "print('spam')\n",
    "\n",
    "Ans:-\n",
    "spam = 0\n",
    "if spam == 10: #Block 1\n",
    "    print('eggs')\n",
    "if spam > 5:   #Block 2\n",
    "    print('bacon')\n",
    "else:          #Block 3\n",
    "    print('ham')\n",
    "    print('spam')\n",
    "    print('spam')"
   ]
  },
  {
   "cell_type": "code",
   "execution_count": null,
   "id": "69656f7a",
   "metadata": {},
   "outputs": [],
   "source": []
  },
  {
   "cell_type": "code",
   "execution_count": null,
   "id": "a42c16de",
   "metadata": {},
   "outputs": [],
   "source": [
    "8. Write code that prints Hello if 1 is stored in spam, prints Howdy if 2 is stored in spam, \n",
    "and prints Greetings! if anything else is stored in spam.\n",
    "\n",
    "Ans:-\n",
    "spam = int(input(\"Enter a number :-\"))\n",
    "if spam == 1:\n",
    "    print(\"Hello\")\n",
    "elif spam == 2:\n",
    "    print(\"Howdy\")\n",
    "else:\n",
    "    print(\"Greetings\")"
   ]
  },
  {
   "cell_type": "code",
   "execution_count": null,
   "id": "b076f7a7",
   "metadata": {},
   "outputs": [],
   "source": []
  },
  {
   "cell_type": "code",
   "execution_count": null,
   "id": "2e44a6f6",
   "metadata": {},
   "outputs": [],
   "source": [
    "9.If your programme is stuck in an endless loop, what keys you’ll press?\n",
    "\n",
    "Ans:- If program is stuck in endless loop we will press ctrl+c."
   ]
  },
  {
   "cell_type": "code",
   "execution_count": null,
   "id": "509c33a9",
   "metadata": {},
   "outputs": [],
   "source": []
  },
  {
   "cell_type": "code",
   "execution_count": null,
   "id": "6caff351",
   "metadata": {},
   "outputs": [],
   "source": [
    "10. How can you tell the difference between break and continue?\n",
    "\n",
    "Ans:- \n",
    "In this break will come out of the loop if he reach to number 7\n",
    "and further execuition will not be happen.\n",
    "# use of break\n",
    "for i in range(10):\n",
    "    if(i==7):\n",
    "        break\n",
    "    print(i)\n",
    "    \n",
    "print('Breaked')\n",
    "\n",
    "In this continue will skip the 7 and proceed further number\n",
    "#use of  continue\n",
    "for i in range(10):\n",
    "    if(i==7):\n",
    "        continue\n",
    "    print(i) "
   ]
  },
  {
   "cell_type": "code",
   "execution_count": null,
   "id": "145c1d21",
   "metadata": {},
   "outputs": [],
   "source": []
  },
  {
   "cell_type": "code",
   "execution_count": null,
   "id": "b3e29136",
   "metadata": {},
   "outputs": [],
   "source": [
    "11. In a for loop, what is the difference between range(10), range(0, 10), and range(0, 10, 1)?\n",
    "\n",
    "Ans:-\n",
    "This loop will run till 0-9.\n",
    "for i in range(10):\n",
    "    print(i)\n",
    "    \n",
    "This loop will run till 0-9.\n",
    "for i in range(0,10):\n",
    "    print(i)\n",
    "    \n",
    "This loop will run till 0-9.\n",
    "for i in range(0,10):\n",
    "    print(i)"
   ]
  },
  {
   "cell_type": "code",
   "execution_count": null,
   "id": "7183fefd",
   "metadata": {},
   "outputs": [],
   "source": []
  },
  {
   "cell_type": "code",
   "execution_count": null,
   "id": "6fbd6bef",
   "metadata": {},
   "outputs": [],
   "source": [
    "12. Write a short program that prints the numbers 1 to 10 using a for loop. Then write an equivalent program that\n",
    "prints the numbers 1 to 10 using a while loop.\n",
    "\n",
    "Ans:-\n",
    "Print(\"For loop :-\")\n",
    "for i in range(1,11):\n",
    "    print(i)\n",
    "    \n",
    "print(\"while loop\")\n",
    "i=1\n",
    "while i<=10:\n",
    "    print(i)\n",
    "    i++"
   ]
  },
  {
   "cell_type": "code",
   "execution_count": null,
   "id": "f312262a",
   "metadata": {},
   "outputs": [],
   "source": []
  },
  {
   "cell_type": "code",
   "execution_count": null,
   "id": "cd60e4e9",
   "metadata": {},
   "outputs": [],
   "source": [
    "13. If you had a function named bacon() inside a module named spam, how would you call it after importing spam?\n",
    "\n",
    "Ans:-\n",
    "This function can be called with spam.bacon()."
   ]
  }
 ],
 "metadata": {
  "kernelspec": {
   "display_name": "Python 3 (ipykernel)",
   "language": "python",
   "name": "python3"
  },
  "language_info": {
   "codemirror_mode": {
    "name": "ipython",
    "version": 3
   },
   "file_extension": ".py",
   "mimetype": "text/x-python",
   "name": "python",
   "nbconvert_exporter": "python",
   "pygments_lexer": "ipython3",
   "version": "3.9.13"
  }
 },
 "nbformat": 4,
 "nbformat_minor": 5
}
