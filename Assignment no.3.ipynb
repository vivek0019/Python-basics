{
 "cells": [
  {
   "cell_type": "raw",
   "id": "09bd13bd",
   "metadata": {},
   "source": [
    "1. Why are functions advantageous to have in your programs?\n",
    "Ans:-\n",
    "    Functions reduce the need of duplicate code. This makes program shorter,\n",
    "    easier to read and easier to update. It is easy to lose track of what particular \n",
    "    code does, or to produce code that must be rewritten elsewhere. Functions which means to\n",
    "    break up and organize code based on the task it executes."
   ]
  },
  {
   "cell_type": "code",
   "execution_count": null,
   "id": "c1ed7177",
   "metadata": {},
   "outputs": [],
   "source": []
  },
  {
   "cell_type": "code",
   "execution_count": null,
   "id": "fc796a8e",
   "metadata": {},
   "outputs": [],
   "source": [
    "2. When does the code in a function run: when it's specified or when it's called?\n",
    "Ans:-\n",
    "    First need to declare the function with def keyword and followed by valid name and followed by round bracket ()\n",
    "    parenthesis.The we add semicolo(:) and press enter to move to next line indentation is\n",
    "    required after enter so we press space bar now function is created so we can add code in that fuction\n",
    "    and after writing code we can call the function to use it.\n",
    "    Call the function name of the function and followed by round bracket.\n",
    "    \n",
    "    Example :-\n",
    "    #Declare the Function\n",
    "    def HelloWordFun():\n",
    "        print(\"Hello World\")\n",
    "        \n",
    "    #Call the function\n",
    "    HelloWordFun()"
   ]
  },
  {
   "cell_type": "code",
   "execution_count": null,
   "id": "4fa4ea99",
   "metadata": {},
   "outputs": [],
   "source": []
  },
  {
   "cell_type": "code",
   "execution_count": null,
   "id": "9c363b06",
   "metadata": {},
   "outputs": [],
   "source": [
    "3. What statement creates a function?\n",
    "Ans:-\n",
    "    Using def keyword we create a function."
   ]
  },
  {
   "cell_type": "code",
   "execution_count": null,
   "id": "7d9ae9a8",
   "metadata": {},
   "outputs": [],
   "source": []
  },
  {
   "cell_type": "code",
   "execution_count": null,
   "id": "3b4dbc21",
   "metadata": {},
   "outputs": [],
   "source": [
    "4. What is the difference between a function and a function call?\n",
    "Ans:-\n",
    "    Fuction :- Function is nothing but a small piece of code.\n",
    "    Fuction Call :- We call the function to executed what is\n",
    "                    return inside the function\n",
    "        \n",
    "    Example :-\n",
    "    #Function\n",
    "    def HelloWordFun():\n",
    "        print(\"Hello World\")\n",
    "        \n",
    "    #Call the function\n",
    "    HelloWordFun()"
   ]
  },
  {
   "cell_type": "code",
   "execution_count": null,
   "id": "e92d26ad",
   "metadata": {},
   "outputs": [],
   "source": []
  },
  {
   "cell_type": "code",
   "execution_count": null,
   "id": "1888f650",
   "metadata": {},
   "outputs": [],
   "source": [
    "5. How many global scopes are there in a Python program? How many local scopes?\n",
    "Ans:-\n",
    "    There's only one global Python scope per program execution. This scope remains \n",
    "    in existence until the program terminates and a local scope is created whenever \n",
    "    a function is called."
   ]
  },
  {
   "cell_type": "code",
   "execution_count": null,
   "id": "9ba695db",
   "metadata": {},
   "outputs": [],
   "source": []
  },
  {
   "cell_type": "code",
   "execution_count": null,
   "id": "061ad09d",
   "metadata": {},
   "outputs": [],
   "source": [
    "6. What happens to variables in a local scope when the function call returns?\n",
    "Ans:-\n",
    "    By default,the assignment statement creates variables in the local scope.\n",
    "    So the assignment inside the function does not modify the global variable"
   ]
  },
  {
   "cell_type": "code",
   "execution_count": null,
   "id": "a1697a14",
   "metadata": {},
   "outputs": [],
   "source": []
  },
  {
   "cell_type": "code",
   "execution_count": null,
   "id": "e1263134",
   "metadata": {},
   "outputs": [],
   "source": [
    "7. What is the concept of a return value? Is it possible to have a return value in an expression?\n",
    "Ans:-\n",
    "    The python statement is a key component of functions and methods. You can use return statement\n",
    "    to make your function send python object back to the caller code.These objects are known as the \n",
    "    functions return value.\n",
    "    If you define a function with an explicit return statement that as an explicit return value, then\n",
    "    you can use that return value in any expression\n",
    "\n",
    "    Example:\n",
    "    def return_42():\n",
    "        return 42 #An explicit return statement"
   ]
  },
  {
   "cell_type": "code",
   "execution_count": null,
   "id": "8fed39fa",
   "metadata": {},
   "outputs": [],
   "source": []
  },
  {
   "cell_type": "code",
   "execution_count": null,
   "id": "96b5e5d7",
   "metadata": {},
   "outputs": [],
   "source": [
    "8. If a function does not have a return statement, what is the return value of a call to that function?\n",
    "Ans:-\n",
    "    If the funtion does not have a return statement it will not return anything.\n",
    "    \n",
    "    "
   ]
  },
  {
   "cell_type": "code",
   "execution_count": null,
   "id": "11256b1d",
   "metadata": {},
   "outputs": [],
   "source": []
  },
  {
   "cell_type": "code",
   "execution_count": null,
   "id": "1f7608e0",
   "metadata": {},
   "outputs": [],
   "source": [
    "9. How do you make a function variable refer to the global variable?\n",
    "Ans:-\n",
    "    When you create a variable inside a function, that variable is local \n",
    "    and can only used inside that function.and variable outside the function \n",
    "    is called global function which can be used by any one.\n",
    "    Example:-\n",
    "    a = 10   #Global variable\n",
    "    def accessglobalvar():\n",
    "        global a    #Accessing global variable inside the function using global keyword\n",
    "        return a    #Return the value that is stored in the global variable\n",
    "    accessglobalvar()  #Calling te function"
   ]
  },
  {
   "cell_type": "code",
   "execution_count": 3,
   "id": "66452d5a",
   "metadata": {},
   "outputs": [],
   "source": []
  },
  {
   "cell_type": "code",
   "execution_count": null,
   "id": "557bbcff",
   "metadata": {},
   "outputs": [],
   "source": [
    "10. What is the data type of None?\n",
    "Ans:-\n",
    "    None is used to define a null value or Null object in python.\n",
    "    It is not the same as an empty string, False, or a zero.\n",
    "    It is a data type of the class NoneTypeObject.\n",
    "    It is a particular variable that has no object value."
   ]
  },
  {
   "cell_type": "code",
   "execution_count": null,
   "id": "8ea741e0",
   "metadata": {},
   "outputs": [],
   "source": []
  },
  {
   "cell_type": "code",
   "execution_count": null,
   "id": "55c96acb",
   "metadata": {},
   "outputs": [],
   "source": [
    "11. What does the sentence import are allyourpetsnamederic do?\n",
    "Ans:-\n",
    "    That import statement imports a module named areallyourpetsnamederic\n",
    "    using this module we can access what ever functions has been return in\n",
    "    areallyourpetsnamederic module.\n",
    "    (But a module of this name doesnt exists in Python)"
   ]
  },
  {
   "cell_type": "code",
   "execution_count": null,
   "id": "e4f9c790",
   "metadata": {},
   "outputs": [],
   "source": []
  },
  {
   "cell_type": "code",
   "execution_count": null,
   "id": "b63f1926",
   "metadata": {},
   "outputs": [],
   "source": [
    "12. If you had a bacon() feature in a spam module, what would you call it after importing spam?\n",
    "Ans:-\n",
    "    I do following steps:\n",
    "    import spam #For accessing bacon function first we have to import spam module\n",
    "    spam.bacon() #We can access bacon \n",
    "    "
   ]
  },
  {
   "cell_type": "code",
   "execution_count": null,
   "id": "d9e9526d",
   "metadata": {},
   "outputs": [],
   "source": []
  },
  {
   "cell_type": "code",
   "execution_count": null,
   "id": "ca66da50",
   "metadata": {},
   "outputs": [],
   "source": [
    "13. What can you do to save a programme from crashing if it encounters an error?\n",
    "Ans:-\n",
    "    We use try except clause to save a programme from crasing if it encounters an error."
   ]
  },
  {
   "cell_type": "code",
   "execution_count": null,
   "id": "5c3717d2",
   "metadata": {},
   "outputs": [],
   "source": []
  },
  {
   "cell_type": "code",
   "execution_count": null,
   "id": "0e5290d5",
   "metadata": {},
   "outputs": [],
   "source": [
    "14. What is the purpose of the try clause? What is the purpose of the except clause?\n",
    "Ans:-\n",
    "    The try block is used to check some code for error i.e the code inside the try block \n",
    "    will execute when there is no error in the program.\n",
    "    The code inside the except block will execute whenever the program\n",
    "    encounters some error.\n",
    "    Example :-\n",
    "    try:\n",
    "        #some code\n",
    "    except:\n",
    "        #Executed if error in the try block\n",
    "        \n",
    "        \n",
    "    def divide(x, y):\n",
    "    try:\n",
    "        # Floor Division : Gives only Fractional Part as Answer\n",
    "        result = x // y\n",
    "        print(\"Yeah ! Your answer is :\", result)\n",
    "    except ZeroDivisionError:\n",
    "        print(\"Sorry ! You are dividing by zero \")"
   ]
  },
  {
   "cell_type": "code",
   "execution_count": null,
   "id": "add61404",
   "metadata": {},
   "outputs": [],
   "source": []
  }
 ],
 "metadata": {
  "kernelspec": {
   "display_name": "Python 3 (ipykernel)",
   "language": "python",
   "name": "python3"
  },
  "language_info": {
   "codemirror_mode": {
    "name": "ipython",
    "version": 3
   },
   "file_extension": ".py",
   "mimetype": "text/x-python",
   "name": "python",
   "nbconvert_exporter": "python",
   "pygments_lexer": "ipython3",
   "version": "3.9.13"
  }
 },
 "nbformat": 4,
 "nbformat_minor": 5
}
