{
 "cells": [
  {
   "cell_type": "code",
   "execution_count": null,
   "id": "6361e6dc",
   "metadata": {},
   "outputs": [],
   "source": [
    "1] 1. In the below elements which of them are values or an expression? eg:- values can be integer or string and expressions will be mathematical operators.\n",
    "* \n",
    "'hello'\n",
    "-87.8\n",
    "- \n",
    "/ \n",
    "+\t\n",
    "6 \n",
    "\n",
    "Answer =values 6 , -87.8 , \"hello\"\n",
    "        expressions - , / , = , *"
   ]
  },
  {
   "cell_type": "code",
   "execution_count": null,
   "id": "2c0b87bf",
   "metadata": {},
   "outputs": [],
   "source": [
    "2] What is the difference between string and variable?\n",
    "   answer : A variable is used to store data or a information and string is a type of information that \n",
    "            you have been stored in varibale.\n",
    "            string is value representing text and a variable that can refer any value.\n",
    "            string is defined in double quotes."
   ]
  },
  {
   "cell_type": "code",
   "execution_count": null,
   "id": "a3601d9f",
   "metadata": {},
   "outputs": [],
   "source": [
    "3] Describe three different data types.\n",
    "   answer : There are different data types such as string ,int ,float ,boolean ,character.\n",
    "            String is a value representing text ,used for alphanumeric text ,it includes alphabates.\n",
    "            int is integer it is used for whole numbers.all are numeric values. float is an subtype of integer.\n",
    "            float is used in numbers having decimal points.\n",
    "            boolean represents the logical values that is true or false."
   ]
  },
  {
   "cell_type": "code",
   "execution_count": null,
   "id": "3e5b4d07",
   "metadata": {},
   "outputs": [],
   "source": [
    "4]What is an expression made up of? What do all expressions do?\n",
    "  answer: expressionn is an combination of operands and operators.\n",
    "          An expression is a combination of operators, constants  and variables.An expression\n",
    "          may consist of one or more operands and zero or more operators to produce a value.\n",
    "          Example :- result = a + b * c ....\n",
    "          Here result variable is used to store the expression value.\n",
    "          a,b,c are operands and + * are operators."
   ]
  },
  {
   "cell_type": "code",
   "execution_count": null,
   "id": "b31b662b",
   "metadata": {},
   "outputs": [],
   "source": [
    "5]This assignment statements, like spam = 10. What is the difference between an expression and a statement?\n",
    "  answer: An expression is a combination of operators, constants  and variables.\n",
    "          this assignment statement conatin 10 value and expression is used to find value."
   ]
  },
  {
   "cell_type": "code",
   "execution_count": null,
   "id": "c210e3b3",
   "metadata": {},
   "outputs": [],
   "source": [
    "6] After running the following code, what does the variable bacon contain?\n",
    "   bacon = 22 \n",
    "   bacon + 1\n",
    "   Answer: first code states that the 22 value is stored in bacon variable and second code is trying to do operation on stored\n",
    "           value .that is 22+1 is 23 \n",
    "           so after running these codes we will get an output 23.\n",
    "           and the updated value of bacon will be 23."
   ]
  },
  {
   "cell_type": "code",
   "execution_count": null,
   "id": "9a7ea0b0",
   "metadata": {},
   "outputs": [],
   "source": [
    "7] What should the values of the following two terms be?\n",
    "   'spam' + 'spamspam'\n",
    "   'spam' * 3\n",
    "   \n",
    "   answer: The output of both the terms will be same but the difference is that first code is concatinating \n",
    "           the two values that is 'spam' + 'spamspam' \n",
    "                           output : 'spamspamspam'\n",
    "           now the second code is just multiplying the one term or repeating three times \n",
    "                   'spam'*3\n",
    "           output: 'spamspamspam'\n",
    " "
   ]
  },
  {
   "cell_type": "code",
   "execution_count": null,
   "id": "343b33bb",
   "metadata": {},
   "outputs": [],
   "source": [
    "8] Why is eggs a valid variable name while 100 is invalid?\n",
    "   answer : its a basic rule that variable name can not be a number accordinf to that 100 is invalid variable name.\n",
    "   Because there are some rule to define variable:\n",
    "           1)We cannot use variable name as any reserve keyword.\n",
    "           2)Variable must not contain any white space and special character.\n",
    "           3)Variable names are case sensitive.\n",
    "           4)Variable name cannot begin with a number.\n",
    "           "
   ]
  },
  {
   "cell_type": "code",
   "execution_count": null,
   "id": "811b4bb4",
   "metadata": {},
   "outputs": [],
   "source": [
    "9] What three functions can be used to get the integer, floating-point number, or string version of a value?\n",
    "   answer: int() , float() , str() these three functions are used to get integer ,floating-point and string."
   ]
  },
  {
   "cell_type": "code",
   "execution_count": null,
   "id": "92877f9f",
   "metadata": {},
   "outputs": [],
   "source": [
    "10] Why does this expression cause an error? How can you fix it?\n",
    "    'I have eaten ' + 99 + ' burritos.'\n",
    "    Answer : In the above expression we are trying to concatinate the diffrent data type values \n",
    "              that is int and 'string' so to concatinate we have to check the all values have same\n",
    "              data type.\n",
    "              so to fix the following error we to change the datatype of int to string .\n",
    "              so 'I have eaten ' + '99' + ' burritos.' now it will concatinate.\n",
    "              this is also called as type casting.\n",
    "              "
   ]
  }
 ],
 "metadata": {
  "kernelspec": {
   "display_name": "Python 3 (ipykernel)",
   "language": "python",
   "name": "python3"
  },
  "language_info": {
   "codemirror_mode": {
    "name": "ipython",
    "version": 3
   },
   "file_extension": ".py",
   "mimetype": "text/x-python",
   "name": "python",
   "nbconvert_exporter": "python",
   "pygments_lexer": "ipython3",
   "version": "3.9.13"
  }
 },
 "nbformat": 4,
 "nbformat_minor": 5
}
