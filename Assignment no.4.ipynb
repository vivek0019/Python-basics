{
 "cells": [
  {
   "cell_type": "code",
   "execution_count": null,
   "id": "a8523ea5",
   "metadata": {},
   "outputs": [],
   "source": []
  },
  {
   "cell_type": "code",
   "execution_count": null,
   "id": "0de5bd7a",
   "metadata": {},
   "outputs": [],
   "source": [
    "1. What exactly is []\n",
    "\n",
    "Ans :-\n",
    "    Square bracket basically used for list.\n",
    "    This empty square bracket represents empty list.\n",
    "    Example :- a = []"
   ]
  },
  {
   "cell_type": "code",
   "execution_count": null,
   "id": "01979388",
   "metadata": {},
   "outputs": [],
   "source": []
  },
  {
   "cell_type": "code",
   "execution_count": null,
   "id": "7c230f8f",
   "metadata": {},
   "outputs": [],
   "source": [
    "2. In a list of values stored in a variable called spam,\n",
    "how would you assign the value 'hello' as the third value? \n",
    "(Assume [2, 4, 6, 8, 10] are in spam.)\n",
    "\n",
    "Ans :-\n",
    "    By changing the value of third index we can do the above \n",
    "    oprtation"
   ]
  },
  {
   "cell_type": "code",
   "execution_count": 2,
   "id": "c5c348db",
   "metadata": {},
   "outputs": [
    {
     "data": {
      "text/plain": [
       "[2, 4, 'hello', 8, 10]"
      ]
     },
     "execution_count": 2,
     "metadata": {},
     "output_type": "execute_result"
    }
   ],
   "source": [
    "spam = [2,4,6,8,10]\n",
    "spam[2] = 'hello'\n",
    "spam\n"
   ]
  },
  {
   "cell_type": "code",
   "execution_count": null,
   "id": "2e4d54c1",
   "metadata": {},
   "outputs": [],
   "source": []
  },
  {
   "cell_type": "code",
   "execution_count": null,
   "id": "931dfcf6",
   "metadata": {},
   "outputs": [],
   "source": [
    "3.What is the value of spam[int(int('3' * 2) / 11)]?\n",
    "Ans :-"
   ]
  },
  {
   "cell_type": "code",
   "execution_count": 4,
   "id": "4f21fc4c",
   "metadata": {},
   "outputs": [
    {
     "data": {
      "text/plain": [
       "8"
      ]
     },
     "execution_count": 4,
     "metadata": {},
     "output_type": "execute_result"
    }
   ],
   "source": [
    "spam[int(int('3' * 2) / 11)]"
   ]
  },
  {
   "cell_type": "code",
   "execution_count": null,
   "id": "b3ffc3b9",
   "metadata": {},
   "outputs": [],
   "source": []
  },
  {
   "cell_type": "code",
   "execution_count": null,
   "id": "8a8c9469",
   "metadata": {},
   "outputs": [],
   "source": [
    "4. What is the value of spam[-1]?\n",
    "Ans :- It gives the last index elemet 10 of spam list\n",
    "        "
   ]
  },
  {
   "cell_type": "code",
   "execution_count": 5,
   "id": "c32ffa48",
   "metadata": {},
   "outputs": [
    {
     "data": {
      "text/plain": [
       "10"
      ]
     },
     "execution_count": 5,
     "metadata": {},
     "output_type": "execute_result"
    }
   ],
   "source": [
    "spam[-1]"
   ]
  },
  {
   "cell_type": "code",
   "execution_count": null,
   "id": "3e6ab723",
   "metadata": {},
   "outputs": [],
   "source": []
  },
  {
   "cell_type": "code",
   "execution_count": null,
   "id": "24bfedba",
   "metadata": {},
   "outputs": [],
   "source": [
    "5. What is the value of spam[:2]?\n",
    "Ans :- It traverse the list from index 0 to 1\n",
    "    it gives output as 2,4"
   ]
  },
  {
   "cell_type": "code",
   "execution_count": 6,
   "id": "fa7ea564",
   "metadata": {},
   "outputs": [
    {
     "data": {
      "text/plain": [
       "[2, 4]"
      ]
     },
     "execution_count": 6,
     "metadata": {},
     "output_type": "execute_result"
    }
   ],
   "source": [
    "spam[:2]"
   ]
  },
  {
   "cell_type": "code",
   "execution_count": null,
   "id": "b0389f0a",
   "metadata": {},
   "outputs": [],
   "source": []
  },
  {
   "cell_type": "code",
   "execution_count": null,
   "id": "d855bade",
   "metadata": {},
   "outputs": [],
   "source": [
    "Let's pretend bacon has the list [3.14, 'cat,' 11, 'cat,' True] \n",
    "for the next three questions "
   ]
  },
  {
   "cell_type": "code",
   "execution_count": null,
   "id": "559d8158",
   "metadata": {},
   "outputs": [],
   "source": []
  },
  {
   "cell_type": "code",
   "execution_count": null,
   "id": "a9c20d4b",
   "metadata": {},
   "outputs": [],
   "source": [
    "6. What is the value of bacon.index('cat')?\n",
    "Ans :- \n",
    "    It give the index value where the cat \n",
    "       value is occured in the bacon list\n",
    "        It gives 1 as output"
   ]
  },
  {
   "cell_type": "code",
   "execution_count": 9,
   "id": "f0e88fd9",
   "metadata": {},
   "outputs": [],
   "source": [
    "bacon = [3.14, 'cat', 11, 'cat', True]"
   ]
  },
  {
   "cell_type": "code",
   "execution_count": 10,
   "id": "9a74c67d",
   "metadata": {},
   "outputs": [
    {
     "data": {
      "text/plain": [
       "1"
      ]
     },
     "execution_count": 10,
     "metadata": {},
     "output_type": "execute_result"
    }
   ],
   "source": [
    "bacon.index('cat')"
   ]
  },
  {
   "cell_type": "code",
   "execution_count": null,
   "id": "d70533a6",
   "metadata": {},
   "outputs": [],
   "source": []
  },
  {
   "cell_type": "code",
   "execution_count": null,
   "id": "41f9c738",
   "metadata": {},
   "outputs": [],
   "source": [
    "7.How does bacon.append(99) change the \n",
    "  look of the list value in bacon?\n",
    "Ans :- \n",
    "    It append 99 value at the end of the list"
   ]
  },
  {
   "cell_type": "code",
   "execution_count": 12,
   "id": "26968216",
   "metadata": {},
   "outputs": [
    {
     "data": {
      "text/plain": [
       "[3.14, 'cat', 11, 'cat', True, 99, 99]"
      ]
     },
     "execution_count": 12,
     "metadata": {},
     "output_type": "execute_result"
    }
   ],
   "source": [
    "bacon.append(99)\n",
    "bacon"
   ]
  },
  {
   "cell_type": "code",
   "execution_count": null,
   "id": "5c1e530f",
   "metadata": {},
   "outputs": [],
   "source": []
  },
  {
   "cell_type": "code",
   "execution_count": null,
   "id": "1a62d7da",
   "metadata": {},
   "outputs": [],
   "source": [
    "8. How does bacon.remove('cat') change the look of the \n",
    "   list in bacon?\n",
    "Ans :- \n",
    "    It removes first occurance of cat in the list bacon."
   ]
  },
  {
   "cell_type": "code",
   "execution_count": 13,
   "id": "87a9ee53",
   "metadata": {},
   "outputs": [
    {
     "data": {
      "text/plain": [
       "[3.14, 11, 'cat', True, 99, 99]"
      ]
     },
     "execution_count": 13,
     "metadata": {},
     "output_type": "execute_result"
    }
   ],
   "source": [
    "bacon.remove('cat')\n",
    "bacon"
   ]
  },
  {
   "cell_type": "code",
   "execution_count": null,
   "id": "875fe870",
   "metadata": {},
   "outputs": [],
   "source": []
  },
  {
   "cell_type": "code",
   "execution_count": null,
   "id": "9a129d2a",
   "metadata": {},
   "outputs": [],
   "source": [
    "9. What are the list concatenation and list replication\n",
    "   operators?\n",
    "Ans :-\n",
    "   list concatination cancatinate the two list it can be \n",
    "   performed using + operator.\n",
    "   + operator is place between list to cancatinate\n",
    "    Example :-"
   ]
  },
  {
   "cell_type": "code",
   "execution_count": 14,
   "id": "f19659f2",
   "metadata": {},
   "outputs": [
    {
     "data": {
      "text/plain": [
       "[1, 2, 3, 4, 5, 6]"
      ]
     },
     "execution_count": 14,
     "metadata": {},
     "output_type": "execute_result"
    }
   ],
   "source": [
    "#List canocatination\n",
    "l1 = [1,2,3]\n",
    "l2 = [4,5,6]\n",
    "l1+l2"
   ]
  },
  {
   "cell_type": "code",
   "execution_count": 15,
   "id": "684b12a8",
   "metadata": {},
   "outputs": [
    {
     "data": {
      "text/plain": [
       "[1, 5, 9, 7, 5, 3]"
      ]
     },
     "execution_count": 15,
     "metadata": {},
     "output_type": "execute_result"
    }
   ],
   "source": [
    "[1,5,9]+[7,5,3]"
   ]
  },
  {
   "cell_type": "code",
   "execution_count": null,
   "id": "55a49f59",
   "metadata": {},
   "outputs": [],
   "source": [
    "list replication repets the elemets in the given number\n",
    "of times it can be done by * operator\n",
    "Example:-"
   ]
  },
  {
   "cell_type": "code",
   "execution_count": 16,
   "id": "981037be",
   "metadata": {},
   "outputs": [
    {
     "data": {
      "text/plain": [
       "[1, 2, 3, 1, 2, 3, 1, 2, 3]"
      ]
     },
     "execution_count": 16,
     "metadata": {},
     "output_type": "execute_result"
    }
   ],
   "source": [
    "#List replication\n",
    "l1*3"
   ]
  },
  {
   "cell_type": "code",
   "execution_count": 17,
   "id": "de57cc9f",
   "metadata": {},
   "outputs": [
    {
     "data": {
      "text/plain": [
       "[4, 5, 6, 4, 5, 6, 4, 5, 6]"
      ]
     },
     "execution_count": 17,
     "metadata": {},
     "output_type": "execute_result"
    }
   ],
   "source": [
    "[4,5,6]*3"
   ]
  },
  {
   "cell_type": "code",
   "execution_count": null,
   "id": "e18b6d76",
   "metadata": {},
   "outputs": [],
   "source": []
  },
  {
   "cell_type": "code",
   "execution_count": null,
   "id": "6d8afd3b",
   "metadata": {},
   "outputs": [],
   "source": [
    "10. What is difference between the list methods append() \n",
    "    and insert()?\n",
    "Ans :-\n",
    "    append() takes the value as argument which we want \n",
    "    to append in the list and append that value at the end \n",
    "    of the end of list"
   ]
  },
  {
   "cell_type": "code",
   "execution_count": 18,
   "id": "0ef5e3b4",
   "metadata": {},
   "outputs": [],
   "source": [
    "#append()\n",
    "l4 = [1,4,7]\n",
    "l4.append(5)"
   ]
  },
  {
   "cell_type": "code",
   "execution_count": 19,
   "id": "dd16634c",
   "metadata": {},
   "outputs": [
    {
     "data": {
      "text/plain": [
       "[1, 4, 7, 5]"
      ]
     },
     "execution_count": 19,
     "metadata": {},
     "output_type": "execute_result"
    }
   ],
   "source": [
    "l4"
   ]
  },
  {
   "cell_type": "code",
   "execution_count": null,
   "id": "be3b88b5",
   "metadata": {},
   "outputs": [],
   "source": [
    "insert() takes two argument first argument is the loaction\n",
    "where the value is to be inserted in the list and second\n",
    "is the value which is to be inserted"
   ]
  },
  {
   "cell_type": "code",
   "execution_count": 20,
   "id": "0b5cb366",
   "metadata": {},
   "outputs": [
    {
     "data": {
      "text/plain": [
       "[1, 4, 'hello', 7]"
      ]
     },
     "execution_count": 20,
     "metadata": {},
     "output_type": "execute_result"
    }
   ],
   "source": [
    "#insert()\n",
    "l4 = [1,4,7]\n",
    "l4.insert(2,'hello')\n",
    "l4"
   ]
  },
  {
   "cell_type": "code",
   "execution_count": null,
   "id": "213dd9cf",
   "metadata": {},
   "outputs": [],
   "source": []
  },
  {
   "cell_type": "code",
   "execution_count": null,
   "id": "21ddeac4",
   "metadata": {},
   "outputs": [],
   "source": [
    "11. What are the two methods for removing items from a list?\n",
    "Ans :-\n",
    "    The methods are remove and pop\n",
    "1. remove\n",
    "It takes 1 argument this argument is nothing but the \n",
    "value we cant to delete form the list\n",
    "If value is not in the list it throws value error.\n",
    "Example:-"
   ]
  },
  {
   "cell_type": "code",
   "execution_count": 25,
   "id": "04558900",
   "metadata": {},
   "outputs": [
    {
     "data": {
      "text/plain": [
       "[4, 6]"
      ]
     },
     "execution_count": 25,
     "metadata": {},
     "output_type": "execute_result"
    }
   ],
   "source": [
    "l2\n",
    "l2.remove(5)\n",
    "l2"
   ]
  },
  {
   "cell_type": "code",
   "execution_count": 26,
   "id": "0c637a39",
   "metadata": {},
   "outputs": [
    {
     "ename": "ValueError",
     "evalue": "list.remove(x): x not in list",
     "output_type": "error",
     "traceback": [
      "\u001b[1;31m---------------------------------------------------------------------------\u001b[0m",
      "\u001b[1;31mValueError\u001b[0m                                Traceback (most recent call last)",
      "\u001b[1;32m~\\AppData\\Local\\Temp\\ipykernel_9060\\1543068212.py\u001b[0m in \u001b[0;36m<module>\u001b[1;34m\u001b[0m\n\u001b[1;32m----> 1\u001b[1;33m \u001b[0ml2\u001b[0m\u001b[1;33m.\u001b[0m\u001b[0mremove\u001b[0m\u001b[1;33m(\u001b[0m\u001b[1;36m44\u001b[0m\u001b[1;33m)\u001b[0m\u001b[1;33m\u001b[0m\u001b[1;33m\u001b[0m\u001b[0m\n\u001b[0m",
      "\u001b[1;31mValueError\u001b[0m: list.remove(x): x not in list"
     ]
    }
   ],
   "source": [
    "l2.remove(44)"
   ]
  },
  {
   "cell_type": "code",
   "execution_count": null,
   "id": "a72f18f3",
   "metadata": {},
   "outputs": [],
   "source": [
    "2. pop\n",
    "It does not take any argument it deletes the last value\n",
    "in the list\n",
    "Example:-"
   ]
  },
  {
   "cell_type": "code",
   "execution_count": 27,
   "id": "f27e56f1",
   "metadata": {},
   "outputs": [
    {
     "data": {
      "text/plain": [
       "[3.14, 11, 'cat', True, 99, 99]"
      ]
     },
     "execution_count": 27,
     "metadata": {},
     "output_type": "execute_result"
    }
   ],
   "source": [
    "bacon"
   ]
  },
  {
   "cell_type": "code",
   "execution_count": 28,
   "id": "3df6e709",
   "metadata": {},
   "outputs": [
    {
     "data": {
      "text/plain": [
       "[3.14, 11, 'cat', True, 99]"
      ]
     },
     "execution_count": 28,
     "metadata": {},
     "output_type": "execute_result"
    }
   ],
   "source": [
    "bacon.pop()\n",
    "bacon"
   ]
  },
  {
   "cell_type": "code",
   "execution_count": null,
   "id": "3ca62268",
   "metadata": {},
   "outputs": [],
   "source": []
  },
  {
   "cell_type": "code",
   "execution_count": null,
   "id": "c13d576b",
   "metadata": {},
   "outputs": [],
   "source": [
    "12. Describe how list values and string values are identical.\n",
    "Ans :-\n",
    "1. Both lists and strings can be passed to len()\n",
    "2. Have indexes and slices\n",
    "3. Can be used in for loops\n",
    "4. Can be concatenated or replicated\n",
    "5. Can be used with the in and not in operator"
   ]
  },
  {
   "cell_type": "code",
   "execution_count": null,
   "id": "de75c650",
   "metadata": {},
   "outputs": [],
   "source": []
  },
  {
   "cell_type": "code",
   "execution_count": null,
   "id": "e333a148",
   "metadata": {},
   "outputs": [],
   "source": [
    "13. What's the difference between tuples and lists?\n",
    "Ans :-\n",
    "Lists :- Are mutable they can have values added, removed, or changed. \n",
    "lists use the square brackets [].\n",
    "Tuples :- are immutable they cannot be changed at all. \n",
    "Tuples are written using parentheses ()."
   ]
  },
  {
   "cell_type": "code",
   "execution_count": null,
   "id": "db6c44ce",
   "metadata": {},
   "outputs": [],
   "source": []
  },
  {
   "cell_type": "code",
   "execution_count": null,
   "id": "7a33af45",
   "metadata": {},
   "outputs": [],
   "source": [
    "14. How do you type a tuple value that only contains the \n",
    "    integer 42?\n",
    "Ans :-"
   ]
  },
  {
   "cell_type": "code",
   "execution_count": 31,
   "id": "51052cdb",
   "metadata": {},
   "outputs": [
    {
     "data": {
      "text/plain": [
       "(42,)"
      ]
     },
     "execution_count": 31,
     "metadata": {},
     "output_type": "execute_result"
    }
   ],
   "source": [
    "t1 = (42,)\n",
    "t1"
   ]
  },
  {
   "cell_type": "code",
   "execution_count": null,
   "id": "8746598f",
   "metadata": {},
   "outputs": [],
   "source": []
  },
  {
   "cell_type": "code",
   "execution_count": null,
   "id": "c5d111f4",
   "metadata": {},
   "outputs": [],
   "source": [
    "15. How do you get a list value's tuple form? How do you \n",
    "    get a tuple value's list form?\n",
    "Ans :-"
   ]
  },
  {
   "cell_type": "code",
   "execution_count": 33,
   "id": "b8505a77",
   "metadata": {},
   "outputs": [
    {
     "data": {
      "text/plain": [
       "(2, 3)"
      ]
     },
     "execution_count": 33,
     "metadata": {},
     "output_type": "execute_result"
    }
   ],
   "source": [
    "l1 = [2,3]\n",
    "t = tuple(l1)\n",
    "t"
   ]
  },
  {
   "cell_type": "code",
   "execution_count": 34,
   "id": "b4ce19ba",
   "metadata": {},
   "outputs": [
    {
     "data": {
      "text/plain": [
       "[3, 4]"
      ]
     },
     "execution_count": 34,
     "metadata": {},
     "output_type": "execute_result"
    }
   ],
   "source": [
    "t1 = (3,4)\n",
    "l = list(t1)\n",
    "l"
   ]
  },
  {
   "cell_type": "code",
   "execution_count": null,
   "id": "6080de7f",
   "metadata": {},
   "outputs": [],
   "source": []
  },
  {
   "cell_type": "code",
   "execution_count": null,
   "id": "e7924149",
   "metadata": {},
   "outputs": [],
   "source": [
    "16. Variables that \"contain\" list values are not necessarily \n",
    "    lists themselves.Instead,what do they contain?\n",
    "Ans :- They contain references to list values"
   ]
  },
  {
   "cell_type": "code",
   "execution_count": null,
   "id": "46e1e420",
   "metadata": {},
   "outputs": [],
   "source": []
  },
  {
   "cell_type": "code",
   "execution_count": null,
   "id": "8539e32d",
   "metadata": {},
   "outputs": [],
   "source": [
    "17. How do you distinguish between copy.copy() and copy.deepcopy()?\n",
    "Ans :-\n",
    "The copy.copy() function will do a shallow copy of a list,\n",
    "The copy.deepcopy() function will do a deep copy of a list.\n",
    "only copy.deepcopy() will duplicate any lists inside the \n",
    "list   "
   ]
  }
 ],
 "metadata": {
  "kernelspec": {
   "display_name": "Python 3 (ipykernel)",
   "language": "python",
   "name": "python3"
  },
  "language_info": {
   "codemirror_mode": {
    "name": "ipython",
    "version": 3
   },
   "file_extension": ".py",
   "mimetype": "text/x-python",
   "name": "python",
   "nbconvert_exporter": "python",
   "pygments_lexer": "ipython3",
   "version": "3.9.13"
  }
 },
 "nbformat": 4,
 "nbformat_minor": 5
}
